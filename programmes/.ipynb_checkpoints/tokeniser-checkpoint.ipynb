{
 "cells": [
  {
   "cell_type": "code",
   "execution_count": 1,
   "id": "b3650665-46a8-49fd-b28e-bddf20bb3b4d",
   "metadata": {
    "tags": []
   },
   "outputs": [
    {
     "name": "stdout",
     "output_type": "stream",
     "text": [
      "Requirement already satisfied: thulac in /Users/lydia/miniconda3/envs/ppe/lib/python3.11/site-packages (0.2.2)\n"
     ]
    }
   ],
   "source": [
    "!pip install thulac"
   ]
  },
  {
   "cell_type": "code",
   "execution_count": 2,
   "id": "eaacbfb2-092b-4594-b582-3b44e61747f4",
   "metadata": {
    "tags": []
   },
   "outputs": [],
   "source": [
    "import thulac"
   ]
  },
  {
   "cell_type": "code",
   "execution_count": 3,
   "id": "14432ba8-c1d8-4a7b-9eb8-4d488ba89b2c",
   "metadata": {
    "tags": []
   },
   "outputs": [
    {
     "name": "stdout",
     "output_type": "stream",
     "text": [
      "Model loaded succeed\n"
     ]
    }
   ],
   "source": [
    "thul = thulac.thulac(seg_only = True)"
   ]
  },
  {
   "cell_type": "code",
   "execution_count": 4,
   "id": "89b1525b-1543-4708-b0ca-55cde032f732",
   "metadata": {
    "tags": []
   },
   "outputs": [
    {
     "name": "stdout",
     "output_type": "stream",
     "text": [
      "successfully cut file ../itrameur/contextes-zh.txt!\n"
     ]
    }
   ],
   "source": [
    "thul.cut_f(\"../itrameur/contextes-zh.txt\", \"../itrameur/tokenized-contextes.txt\")"
   ]
  },
  {
   "cell_type": "code",
   "execution_count": 5,
   "id": "a35c1cb0-6a5f-4424-b9d7-3761d68f0c2a",
   "metadata": {
    "tags": []
   },
   "outputs": [
    {
     "name": "stdout",
     "output_type": "stream",
     "text": [
      "successfully cut file ../itrameur/dump-texts-zh.txt!\n"
     ]
    }
   ],
   "source": [
    "thul.cut_f(\"../itrameur/dump-texts-zh.txt\", \"../itrameur/tokenized-dump.txt\")"
   ]
  },
  {
   "cell_type": "code",
   "execution_count": null,
   "id": "b32ee7f5-daf2-4f67-8122-b49648344b95",
   "metadata": {},
   "outputs": [],
   "source": []
  }
 ],
 "metadata": {
  "kernelspec": {
   "display_name": "Python 3 (ipykernel)",
   "language": "python",
   "name": "python3"
  },
  "language_info": {
   "codemirror_mode": {
    "name": "ipython",
    "version": 3
   },
   "file_extension": ".py",
   "mimetype": "text/x-python",
   "name": "python",
   "nbconvert_exporter": "python",
   "pygments_lexer": "ipython3",
   "version": "3.11.5"
  }
 },
 "nbformat": 4,
 "nbformat_minor": 5
}
