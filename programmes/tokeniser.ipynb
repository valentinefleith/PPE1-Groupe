{
 "cells": [
  {
   "cell_type": "code",
   "execution_count": null,
   "id": "b3650665-46a8-49fd-b28e-bddf20bb3b4d",
   "metadata": {
    "tags": []
   },
   "outputs": [],
   "source": [
    "!pip install thulac"
   ]
  },
  {
   "cell_type": "code",
   "execution_count": null,
   "id": "eaacbfb2-092b-4594-b582-3b44e61747f4",
   "metadata": {
    "tags": []
   },
   "outputs": [],
   "source": [
    "import thulac"
   ]
  },
  {
   "cell_type": "code",
   "execution_count": null,
   "id": "14432ba8-c1d8-4a7b-9eb8-4d488ba89b2c",
   "metadata": {
    "tags": []
   },
   "outputs": [],
   "source": [
    "thul = thulac.thulac(seg_only = True)"
   ]
  },
  {
   "cell_type": "code",
   "execution_count": null,
   "id": "89b1525b-1543-4708-b0ca-55cde032f732",
   "metadata": {
    "tags": []
   },
   "outputs": [],
   "source": [
    "thul.cut_f(\"../itrameur/contextes-zh.txt\", \"../itrameur/tokenized-contextes.txt\")"
   ]
  },
  {
   "cell_type": "code",
   "execution_count": null,
   "id": "a35c1cb0-6a5f-4424-b9d7-3761d68f0c2a",
   "metadata": {
    "tags": []
   },
   "outputs": [],
   "source": [
    "thul.cut_f(\"../itrameur/dump-texts-zh.txt\", \"../itrameur/tokenized-dump.txt\")"
   ]
  }
 ],
 "metadata": {
  "kernelspec": {
   "display_name": "Python 3 (ipykernel)",
   "language": "python",
   "name": "python3"
  },
  "language_info": {
   "codemirror_mode": {
    "name": "ipython",
    "version": 3
   },
   "file_extension": ".py",
   "mimetype": "text/x-python",
   "name": "python",
   "nbconvert_exporter": "python",
   "pygments_lexer": "ipython3",
   "version": "3.11.5"
  }
 },
 "nbformat": 4,
 "nbformat_minor": 5
}
