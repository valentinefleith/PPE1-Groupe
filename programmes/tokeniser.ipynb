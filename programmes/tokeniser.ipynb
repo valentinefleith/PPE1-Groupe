{
 "cells": [
  {
   "cell_type": "code",
   "execution_count": 2,
   "id": "b3650665-46a8-49fd-b28e-bddf20bb3b4d",
   "metadata": {
    "tags": []
   },
   "outputs": [
    {
     "name": "stdout",
     "output_type": "stream",
     "text": [
      "Collecting thulac\n",
      "  Downloading thulac-0.2.2-py3-none-any.whl (53.1 MB)\n",
      "\u001b[2K     \u001b[90m━━━━━━━━━━━━━━━━━━━━━━━━━━━━━━━━━━━━━━━━\u001b[0m \u001b[32m53.1/53.1 MB\u001b[0m \u001b[31m1.9 MB/s\u001b[0m eta \u001b[36m0:00:00\u001b[0m00:01\u001b[0m00:01\u001b[0m\n",
      "\u001b[?25hInstalling collected packages: thulac\n",
      "Successfully installed thulac-0.2.2\n"
     ]
    }
   ],
   "source": [
    "!pip install thulac"
   ]
  },
  {
   "cell_type": "code",
   "execution_count": 3,
   "id": "eaacbfb2-092b-4594-b582-3b44e61747f4",
   "metadata": {
    "tags": []
   },
   "outputs": [],
   "source": [
    "import thulac"
   ]
  },
  {
   "cell_type": "code",
   "execution_count": 4,
   "id": "14432ba8-c1d8-4a7b-9eb8-4d488ba89b2c",
   "metadata": {
    "tags": []
   },
   "outputs": [
    {
     "name": "stdout",
     "output_type": "stream",
     "text": [
      "Model loaded succeed\n"
     ]
    }
   ],
   "source": [
    "thul = thulac.thulac(seg_only = True)"
   ]
  },
  {
   "cell_type": "code",
   "execution_count": 23,
   "id": "fba5cc00-4b79-4f7c-9628-cf971f7fccd3",
   "metadata": {
    "tags": []
   },
   "outputs": [],
   "source": [
    "#!touch ../itrameur/contextes-tokenized.txt"
   ]
  },
  {
   "cell_type": "code",
   "execution_count": 24,
   "id": "3975902a-c1b1-4c6e-a1bb-56fb82e3ea48",
   "metadata": {
    "tags": []
   },
   "outputs": [],
   "source": [
    "#!touch ../itrameur/dump-tokenized.txt"
   ]
  },
  {
   "cell_type": "code",
   "execution_count": 27,
   "id": "89b1525b-1543-4708-b0ca-55cde032f732",
   "metadata": {
    "tags": []
   },
   "outputs": [
    {
     "name": "stdout",
     "output_type": "stream",
     "text": [
      "successfully cut file /Users/lydia/desktop/copie.PPE/itrameur/contextes-zh.txt!\n"
     ]
    }
   ],
   "source": [
    "thul.cut_f(\"/Users/lydia/desktop/copie.PPE/itrameur/contextes-zh.txt\", \"/Users/lydia/desktop/copie.PPE/itrameur/tokenized-contextes.txt\")"
   ]
  },
  {
   "cell_type": "code",
   "execution_count": 28,
   "id": "a35c1cb0-6a5f-4424-b9d7-3761d68f0c2a",
   "metadata": {
    "tags": []
   },
   "outputs": [
    {
     "name": "stdout",
     "output_type": "stream",
     "text": [
      "successfully cut file /Users/lydia/desktop/copie.PPE/itrameur/dump-texts-zh.txt!\n"
     ]
    }
   ],
   "source": [
    "thul.cut_f(\"/Users/lydia/desktop/copie.PPE/itrameur/dump-texts-zh.txt\", \"/Users/lydia/desktop/copie.PPE/itrameur/tokenized-dump.txt\")"
   ]
  },
  {
   "cell_type": "code",
   "execution_count": null,
   "id": "b32ee7f5-daf2-4f67-8122-b49648344b95",
   "metadata": {},
   "outputs": [],
   "source": []
  }
 ],
 "metadata": {
  "kernelspec": {
   "display_name": "Python 3 (ipykernel)",
   "language": "python",
   "name": "python3"
  },
  "language_info": {
   "codemirror_mode": {
    "name": "ipython",
    "version": 3
   },
   "file_extension": ".py",
   "mimetype": "text/x-python",
   "name": "python",
   "nbconvert_exporter": "python",
   "pygments_lexer": "ipython3",
   "version": "3.11.5"
  }
 },
 "nbformat": 4,
 "nbformat_minor": 5
}
